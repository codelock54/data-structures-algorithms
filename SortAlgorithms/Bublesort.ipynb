{
 "cells": [
  {
   "cell_type": "code",
   "execution_count": 11,
   "metadata": {},
   "outputs": [],
   "source": [
    "L = [8, 6, 58, 1, 2, 0.5, 68, 2.5, 87]\n",
    "S = []\n",
    "\n"
   ]
  },
  {
   "cell_type": "code",
   "execution_count": 13,
   "metadata": {},
   "outputs": [
    {
     "name": "stdout",
     "output_type": "stream",
     "text": [
      "[87, 2.5, 68, 0.5, 2, 1, 58, 6, 8]\n"
     ]
    }
   ],
   "source": [
    "for i in range(L): \n",
    "    \n",
    "        key = L[i]\n",
    "        \n",
    "        \n",
    "    \n",
    "\n",
    "        #else: S.insert(count -1,i)\n",
    "    \n",
    "print(S)"
   ]
  }
 ],
 "metadata": {
  "kernelspec": {
   "display_name": ".venv",
   "language": "python",
   "name": "python3"
  },
  "language_info": {
   "codemirror_mode": {
    "name": "ipython",
    "version": 3
   },
   "file_extension": ".py",
   "mimetype": "text/x-python",
   "name": "python",
   "nbconvert_exporter": "python",
   "pygments_lexer": "ipython3",
   "version": "3.11.8"
  }
 },
 "nbformat": 4,
 "nbformat_minor": 2
}
