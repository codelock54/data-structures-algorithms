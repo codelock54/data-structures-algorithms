{
 "cells": [
  {
   "cell_type": "code",
   "execution_count": 3,
   "metadata": {},
   "outputs": [],
   "source": [
    "cadena = \"Adios Mundo\""
   ]
  },
  {
   "cell_type": "code",
   "execution_count": 5,
   "metadata": {},
   "outputs": [],
   "source": [
    "lista = [13, 20, 10, 82, 64, 33, 91, 27]"
   ]
  },
  {
   "cell_type": "code",
   "execution_count": 7,
   "metadata": {},
   "outputs": [
    {
     "name": "stdout",
     "output_type": "stream",
     "text": [
      "Arreglo ordenado: [5, 6, 7, 11, 12, 13]\n"
     ]
    }
   ],
   "source": [
    "def merge_sort(arr):\n",
    "    if len(arr) > 1:\n",
    "        mid = len(arr) // 2  # Encuentra el índice medio del arreglo\n",
    "        L = arr[:mid]        # Divide el arreglo en mitades izquierda y derecha\n",
    "        R = arr[mid:]\n",
    "\n",
    "        merge_sort(L)        # Ordena la mitad izquierda de forma recursiva\n",
    "        merge_sort(R)        # Ordena la mitad derecha de forma recursiva\n",
    "\n",
    "        # Combina las mitades ordenadas\n",
    "        i = j = k = 0\n",
    "        while i < len(L) and j < len(R):\n",
    "            if L[i] < R[j]:\n",
    "                arr[k] = L[i]\n",
    "                i += 1\n",
    "            else:\n",
    "                arr[k] = R[j]\n",
    "                j += 1\n",
    "            k += 1\n",
    "\n",
    "        # Asegúrate de que no se hayan quedado elementos sin agregar en L o R\n",
    "        while i < len(L):\n",
    "            arr[k] = L[i]\n",
    "            i += 1\n",
    "            k += 1\n",
    "        while j < len(R):\n",
    "            arr[k] = R[j]\n",
    "            j += 1\n",
    "            k += 1\n",
    "\n",
    "# Ejemplo de uso\n",
    "arr = [12, 11, 13, 5, 6, 7]\n",
    "merge_sort(arr)\n",
    "print(\"Arreglo ordenado:\", arr)\n"
   ]
  },
  {
   "cell_type": "markdown",
   "metadata": {},
   "source": [
    "            3                        \n",
    "            2\n",
    "            4   2\n",
    "            n   n +1 \n",
    "            3n  caso especial la indexacion\n",
    "            n   n +1 \n",
    "            2n  3n\n",
    "            2   3\n",
    "            2   3\n",
    "            1\n",
    "            1\n",
    "for             n   n + 1\n",
    "if n   3n\n",
    "A[k] = L[i]      2n  3n/2\n",
    "i = i+1     n   2n /2\n",
    "A[k] = R[j]     3n/2\n",
    "j = j +1        2n  \n",
    "\n",
    "15+ 14n         18 + 10n + 3n"
   ]
  }
 ],
 "metadata": {
  "kernelspec": {
   "display_name": ".venv",
   "language": "python",
   "name": "python3"
  },
  "language_info": {
   "codemirror_mode": {
    "name": "ipython",
    "version": 3
   },
   "file_extension": ".py",
   "mimetype": "text/x-python",
   "name": "python",
   "nbconvert_exporter": "python",
   "pygments_lexer": "ipython3",
   "version": "3.11.8"
  }
 },
 "nbformat": 4,
 "nbformat_minor": 2
}
