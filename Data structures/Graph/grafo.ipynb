{
 "cells": [
  {
   "cell_type": "code",
   "execution_count": 1,
   "metadata": {},
   "outputs": [],
   "source": [
    "import ezodf\n"
   ]
  },
  {
   "cell_type": "code",
   "execution_count": 14,
   "metadata": {},
   "outputs": [],
   "source": [
    "def leerOds(doc):\n",
    "    odsdoc = ezodf.opendoc(doc)\n",
    "\n",
    "    # Obtiene la primera hoja del documento\n",
    "    sheet = odsdoc.sheets[0]\n",
    "\n",
    "    # Imprime el contenido de las celdas\n",
    "    for row in sheet.rows():\n",
    "        for cell in row:\n",
    "            print(cell.value, end='\\t')\n",
    "        print()"
   ]
  },
  {
   "cell_type": "code",
   "execution_count": 15,
   "metadata": {},
   "outputs": [
    {
     "name": "stdout",
     "output_type": "stream",
     "text": [
      "8.0\t\n",
      "16.0\t\n",
      "4 5 0.35\t\n",
      "4 7 0.37\t\n",
      "5 7 0.28\t\n",
      "0 7 0.16\t\n",
      "1 5 0.32\t\n",
      "0 4 0.38\t\n",
      "2 3 0.17\t\n",
      "1 7 0.19\t\n",
      "0 2 0.26\t\n",
      "1 2 0.36\t\n",
      "1 3 0.29\t\n",
      "2 7 0.34\t\n",
      "6 2 0.40\t\n",
      "3 6 0.52\t\n",
      "6 0 0.58\t\n",
      "6 4 0.93\t\n"
     ]
    }
   ],
   "source": [
    "leerOds('grafo.ods')"
   ]
  },
  {
   "cell_type": "code",
   "execution_count": null,
   "metadata": {},
   "outputs": [],
   "source": [
    "doc = open(\"tiniEWG.txt\")\n"
   ]
  }
 ],
 "metadata": {
  "kernelspec": {
   "display_name": ".venv",
   "language": "python",
   "name": "python3"
  },
  "language_info": {
   "codemirror_mode": {
    "name": "ipython",
    "version": 3
   },
   "file_extension": ".py",
   "mimetype": "text/x-python",
   "name": "python",
   "nbconvert_exporter": "python",
   "pygments_lexer": "ipython3",
   "version": "3.12.3"
  }
 },
 "nbformat": 4,
 "nbformat_minor": 2
}
