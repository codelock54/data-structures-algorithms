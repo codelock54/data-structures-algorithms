{
  "nbformat": 4,
  "nbformat_minor": 0,
  "metadata": {
    "colab": {
      "provenance": []
    },
    "kernelspec": {
      "name": "python3",
      "display_name": "Python 3"
    },
    "accelerator": "GPU"
  },
  "cells": [
    {
      "cell_type": "code",
      "metadata": {
        "id": "jt4SNRZEWMd0"
      },
      "source": [
        "class Pila:\n",
        "    def __init__(self):\n",
        "        self.items = []\n",
        "\n",
        "    def isEmpty(self):\n",
        "        return self.items == []\n",
        "\n",
        "    def push(self, item):\n",
        "        self.items.append(item)\n",
        "\n",
        "    def pop(self):\n",
        "        return self.items.pop()\n",
        "\n",
        "    def peek(self):\n",
        "        return self.items[len(self.items)-1]\n",
        "\n",
        "    def size(self):\n",
        "        return len(self.items)\n"
      ],
      "execution_count": null,
      "outputs": []
    },
    {
      "cell_type": "code",
      "metadata": {
        "id": "z3pG6S5IXshm"
      },
      "source": [
        "pila = Pila()\n",
        "pila.push(12)\n",
        "pila.push(14)\n",
        "pila.push(10)\n",
        "pila.push(1)\n",
        "pila.push(20)\n",
        "pila.push(20)\n",
        "pila.push(12)"
      ],
      "execution_count": null,
      "outputs": []
    },
    {
      "cell_type": "code",
      "metadata": {
        "id": "YHA-Pekn1GP4",
        "colab": {
          "base_uri": "https://localhost:8080/"
        },
        "outputId": "672fc3d7-9013-4180-832e-e963a740a519"
      },
      "source": [
        "def mostrar_pila(p):\n",
        "  pp = copy.deepcopy(p)\n",
        "  while (not pp.isEmpty()):\n",
        "    n = pp.pop()\n",
        "    print(n)\n",
        "\n",
        "mostrar_pila(pila)"
      ],
      "execution_count": null,
      "outputs": [
        {
          "output_type": "stream",
          "text": [
            "12\n",
            "20\n",
            "20\n",
            "1\n",
            "10\n",
            "14\n",
            "12\n"
          ],
          "name": "stdout"
        }
      ]
    },
    {
      "cell_type": "code",
      "metadata": {
        "id": "IjwBempYt3Zx",
        "colab": {
          "base_uri": "https://localhost:8080/"
        },
        "outputId": "86c01e7b-fa85-4c74-c86b-1a4a3973f20f"
      },
      "source": [
        "print(pila.peek())\n",
        "pila.pop()\n",
        "print(pila.peek())"
      ],
      "execution_count": null,
      "outputs": [
        {
          "output_type": "stream",
          "text": [
            "20\n",
            "1\n"
          ],
          "name": "stdout"
        }
      ]
    },
    {
      "cell_type": "code",
      "metadata": {
        "id": "7XQDtH8NuLWv",
        "colab": {
          "base_uri": "https://localhost:8080/"
        },
        "outputId": "e3575186-f3cf-41a6-9673-66ea487eace7"
      },
      "source": [
        "def tamanho_stack(p):\n",
        "  cont = 0\n",
        "  while(not p.isEmpty()):\n",
        "    cont = cont + 1\n",
        "    p.pop()\n",
        "  return cont\n",
        "\n",
        "num = tamanho_stack(pila)\n",
        "print(num)"
      ],
      "execution_count": null,
      "outputs": [
        {
          "output_type": "stream",
          "text": [
            "0\n"
          ],
          "name": "stdout"
        }
      ]
    },
    {
      "cell_type": "code",
      "metadata": {
        "id": "N3eoE9iGxFnG",
        "colab": {
          "base_uri": "https://localhost:8080/",
          "height": 227
        },
        "outputId": "095b22ee-a788-4428-cd86-67783d4acb6d"
      },
      "source": [
        "import copy\n",
        "\n",
        "def eliRep(p):\n",
        "  L = []\n",
        "  K = []\n",
        "  nP = Pila()\n",
        "  pp = copy.deepcopy(p)\n",
        "  while (not pp.isEmpty()):\n",
        "    n = pp.pop()\n",
        "    L.append(n)\n",
        "\n",
        "  for i in L:\n",
        "    if i not in K:\n",
        "      K.append(i)\n",
        "      nP.push(i)\n",
        "\n",
        "  return nP\n",
        "\n",
        "prueba = eliRep(pila)\n",
        "mostrar_pila(prueba)"
      ],
      "execution_count": null,
      "outputs": [
        {
          "output_type": "error",
          "ename": "NameError",
          "evalue": "ignored",
          "traceback": [
            "\u001b[0;31m---------------------------------------------------------------------------\u001b[0m",
            "\u001b[0;31mNameError\u001b[0m                                 Traceback (most recent call last)",
            "\u001b[0;32m<ipython-input-7-082ec9cb4419>\u001b[0m in \u001b[0;36m<module>\u001b[0;34m()\u001b[0m\n\u001b[1;32m     17\u001b[0m   \u001b[0;32mreturn\u001b[0m \u001b[0mnP\u001b[0m\u001b[0;34m\u001b[0m\u001b[0;34m\u001b[0m\u001b[0m\n\u001b[1;32m     18\u001b[0m \u001b[0;34m\u001b[0m\u001b[0m\n\u001b[0;32m---> 19\u001b[0;31m \u001b[0mprueba\u001b[0m \u001b[0;34m=\u001b[0m \u001b[0meliRep\u001b[0m\u001b[0;34m(\u001b[0m\u001b[0mpila\u001b[0m\u001b[0;34m)\u001b[0m\u001b[0;34m\u001b[0m\u001b[0;34m\u001b[0m\u001b[0m\n\u001b[0m\u001b[1;32m     20\u001b[0m \u001b[0mmostrar_pila\u001b[0m\u001b[0;34m(\u001b[0m\u001b[0mprueba\u001b[0m\u001b[0;34m)\u001b[0m\u001b[0;34m\u001b[0m\u001b[0;34m\u001b[0m\u001b[0m\n",
            "\u001b[0;31mNameError\u001b[0m: name 'pila' is not defined"
          ]
        }
      ]
    },
    {
      "cell_type": "code",
      "metadata": {
        "id": "uT6MkqdKvi1z",
        "colab": {
          "base_uri": "https://localhost:8080/",
          "height": 34
        },
        "outputId": "69357757-5f13-4856-bcd6-1fc63b94d827"
      },
      "source": [
        "def verif_balanceo(pal):\n",
        "  P = Pila()\n",
        "  for i in pal:\n",
        "    if ( i == '(' or i == '{' or i == '['):\n",
        "      P.push(i)\n",
        "    else:\n",
        "      if (P.isEmpty()):\n",
        "        return False\n",
        "\n",
        "      cima = P.peek()\n",
        "      if (cima == '(' and i == ')'):\n",
        "        P.pop()\n",
        "      elif (cima == '[' and i == ']'):\n",
        "        P.pop()\n",
        "      elif (cima == '{' and i == '}'):\n",
        "        P.pop()\n",
        "\n",
        "  return P.isEmpty()\n",
        "\n",
        "es = \"{{}[]}\"\n",
        "band = verif_balanceo(es)\n",
        "print(band)"
      ],
      "execution_count": null,
      "outputs": [
        {
          "output_type": "stream",
          "text": [
            "True\n"
          ],
          "name": "stdout"
        }
      ]
    },
    {
      "cell_type": "code",
      "metadata": {
        "id": "cgha142633G_",
        "colab": {
          "base_uri": "https://localhost:8080/",
          "height": 34
        },
        "outputId": "0833788d-f9c3-40b5-bf79-7813b8671cf6"
      },
      "source": [
        "# conversion a binario\n",
        "\n",
        "def convbin(num):\n",
        "  P = Pila()\n",
        "\n",
        "  while (num != 0):\n",
        "    rest = num % 2\n",
        "    num = num // 2\n",
        "    P.push(rest)\n",
        "\n",
        "  while (not P.isEmpty()):\n",
        "    nu = P.pop()\n",
        "    print(nu, end='')\n",
        "\n",
        "convbin(79)\n"
      ],
      "execution_count": null,
      "outputs": [
        {
          "output_type": "stream",
          "text": [
            "1001111"
          ],
          "name": "stdout"
        }
      ]
    },
    {
      "cell_type": "code",
      "metadata": {
        "id": "BnFweH5NZWIr"
      },
      "source": [
        "class Cola:\n",
        "  def __init__(self):\n",
        "    self.items = []\n",
        "\n",
        "  def isEmpty(self):\n",
        "    return self.items == []\n",
        "\n",
        "  def enqueue(self, item):\n",
        "    self.items.insert(0,item)\n",
        "\n",
        "  def dequeue(self):\n",
        "    return self.items.pop()\n",
        "\n",
        "  def size(self):\n",
        "    return len(self.items)\n"
      ],
      "execution_count": null,
      "outputs": []
    },
    {
      "cell_type": "code",
      "metadata": {
        "id": "lcUxXvnjclyz",
        "colab": {
          "base_uri": "https://localhost:8080/",
          "height": 34
        },
        "outputId": "bea66015-ae30-4300-b12e-8e377905b525"
      },
      "source": [
        "q=Cola()\n",
        "q.enqueue(4)\n",
        "q.enqueue('dog')\n",
        "q.enqueue(13)\n",
        "q.enqueue(20)\n",
        "print(q.size())\n"
      ],
      "execution_count": null,
      "outputs": [
        {
          "output_type": "stream",
          "text": [
            "4\n"
          ],
          "name": "stdout"
        }
      ]
    },
    {
      "cell_type": "code",
      "metadata": {
        "id": "8jPOJjJccovN",
        "colab": {
          "base_uri": "https://localhost:8080/",
          "height": 84
        },
        "outputId": "41f224ed-90ff-413e-ec1c-3d8a4c2049cc"
      },
      "source": [
        "def mostrar_cola( C ):\n",
        "  while (not C.isEmpty()):\n",
        "    temp = C.dequeue()\n",
        "    print(temp)\n",
        "\n",
        "mostrar_cola(q)"
      ],
      "execution_count": null,
      "outputs": [
        {
          "output_type": "stream",
          "text": [
            "4\n",
            "dog\n",
            "13\n",
            "20\n"
          ],
          "name": "stdout"
        }
      ]
    },
    {
      "cell_type": "code",
      "metadata": {
        "id": "u6wLUsSd-pzo"
      },
      "source": [
        "import copy\n",
        "\n",
        "def contar(C):\n",
        "  cont = 0\n",
        "  qq = copy.deepcopy(C) # crea una copia del objeto C\n",
        "  while (not qq.isEmpty()):\n",
        "    qq.dequeue()\n",
        "    cont += 1\n",
        "  return cont"
      ],
      "execution_count": null,
      "outputs": []
    },
    {
      "cell_type": "code",
      "metadata": {
        "id": "5Av6NXGG_LCt",
        "colab": {
          "base_uri": "https://localhost:8080/",
          "height": 34
        },
        "outputId": "5b5e6421-089a-4670-cdb1-48c9824d0a4a"
      },
      "source": [
        "contar(q)"
      ],
      "execution_count": null,
      "outputs": [
        {
          "output_type": "execute_result",
          "data": {
            "text/plain": [
              "4"
            ]
          },
          "metadata": {
            "tags": []
          },
          "execution_count": 33
        }
      ]
    },
    {
      "cell_type": "code",
      "metadata": {
        "id": "Sd0RULsv_YHX",
        "colab": {
          "base_uri": "https://localhost:8080/",
          "height": 34
        },
        "outputId": "744f9e8b-7b22-4704-a3a4-50fb1e6bd450"
      },
      "source": [
        "q.isEmpty()"
      ],
      "execution_count": null,
      "outputs": [
        {
          "output_type": "execute_result",
          "data": {
            "text/plain": [
              "True"
            ]
          },
          "metadata": {
            "tags": []
          },
          "execution_count": 34
        }
      ]
    },
    {
      "cell_type": "code",
      "metadata": {
        "id": "T54XnZIRAKM_"
      },
      "source": [
        "class Deque:\n",
        "  def __init__(self):\n",
        "    self.items = []\n",
        "\n",
        "  def isEmpty(self):\n",
        "    return self.items == []\n",
        "\n",
        "  def addFront(self, item):\n",
        "    self.items.append(item)\n",
        "\n",
        "  def addRear(self, item):\n",
        "    self.items.insert(0,item)\n",
        "\n",
        "  def removeFront(self):\n",
        "    return self.items.pop()\n",
        "\n",
        "  def removeRear(self):\n",
        "    return self.items.pop(0)\n",
        "  def size(self):\n",
        "    return len(self.items)\n",
        "\n",
        "\n"
      ],
      "execution_count": null,
      "outputs": []
    },
    {
      "cell_type": "code",
      "metadata": {
        "id": "HiesTXLlAQ_6",
        "colab": {
          "base_uri": "https://localhost:8080/",
          "height": 101
        },
        "outputId": "ce39eb2f-bb5e-4862-c50b-b82503722269"
      },
      "source": [
        "d=Deque()\n",
        "print(d.isEmpty())\n",
        "d.addRear(4)\n",
        "d.addRear('dog')\n",
        "d.addFront('cat')\n",
        "d.addFront(True)\n",
        "print(d.size())\n",
        "print(d.isEmpty())\n",
        "d.addRear(8.4)\n",
        "print(d.removeRear())\n",
        "print(d.removeFront())"
      ],
      "execution_count": null,
      "outputs": [
        {
          "output_type": "stream",
          "text": [
            "True\n",
            "4\n",
            "False\n",
            "8.4\n",
            "True\n"
          ],
          "name": "stdout"
        }
      ]
    },
    {
      "cell_type": "code",
      "metadata": {
        "id": "HUOv_DZHhdLM",
        "colab": {
          "base_uri": "https://localhost:8080/"
        },
        "outputId": "1cd0c5de-24e7-400d-803b-884af95bce1d"
      },
      "source": [
        "#anna\n",
        "def es_palindrona(pal):\n",
        "  d = Deque()\n",
        "  for i in pal:\n",
        "    d.addRear(i)\n",
        "\n",
        "  while (d.isEmpty() == False):\n",
        "    if (d.size() == 1):\n",
        "      return True\n",
        "    prim = d.removeFront()\n",
        "    ult = d.removeRear()\n",
        "    if ( prim != ult):\n",
        "      return False\n",
        "  return True\n",
        "\n",
        "print(es_palindrona('rallar'))"
      ],
      "execution_count": null,
      "outputs": [
        {
          "output_type": "stream",
          "text": [
            "True\n"
          ],
          "name": "stdout"
        }
      ]
    },
    {
      "cell_type": "markdown",
      "metadata": {
        "id": "o-cfzDH6l3Px"
      },
      "source": [
        "# Listas"
      ]
    },
    {
      "cell_type": "code",
      "metadata": {
        "id": "gloxCOmGl4qM"
      },
      "source": [
        "class Nodo:\n",
        "  def __init__(self,initdata):\n",
        "    self.data = initdata\n",
        "    self.next = None\n",
        "\n",
        "  def getData(self):\n",
        "    return self.data\n",
        "\n",
        "  def getNext(self):\n",
        "    return self.next\n",
        "\n",
        "  def setData(self,newdata):\n",
        "    self.data = newdata\n",
        "\n",
        "\n",
        "  def setNext(self,newnext):\n",
        "    self.next = newnext\n",
        "\n",
        "\n"
      ],
      "execution_count": null,
      "outputs": []
    },
    {
      "cell_type": "code",
      "metadata": {
        "id": "Mo8mo1tLl51v",
        "colab": {
          "base_uri": "https://localhost:8080/"
        },
        "outputId": "e7d9f18f-b4df-47d9-e35f-96b1e879c493"
      },
      "source": [
        "temp = Nodo(93)\n",
        "print(temp.getData())\n",
        "print(temp.getNext())"
      ],
      "execution_count": null,
      "outputs": [
        {
          "output_type": "stream",
          "text": [
            "93\n",
            "None\n"
          ],
          "name": "stdout"
        }
      ]
    },
    {
      "cell_type": "code",
      "metadata": {
        "id": "QwuiWQ_Gl9vl"
      },
      "source": [
        "class List:\n",
        "  def __init__(self):\n",
        "    self.head = None\n",
        "\n",
        "  def isEmpty(self):\n",
        "    return self.head == None\n",
        "\n",
        "  def add(self,item):\n",
        "    temp = Nodo(item)\n",
        "    temp.setNext(self.head)\n",
        "    self.head = temp\n",
        "\n",
        "  def showValues(self):\n",
        "    P = self.head\n",
        "    while (P != None):\n",
        "      print(P.data, end=' , ')\n",
        "      P = P.next\n",
        "\n",
        "  def size(self):\n",
        "    P = self.head\n",
        "    cont = 0\n",
        "    while (P != None):\n",
        "      cont += 1\n",
        "      P = P.next\n",
        "    return cont\n",
        "\n",
        "  def search(self , x):\n",
        "    P = self.head\n",
        "    cont = 0\n",
        "    while (P != None):\n",
        "      if (P.data == x):\n",
        "        return True\n",
        "      P = P.next\n",
        "    return False\n",
        "\n",
        "  def retornar(self, pos):\n",
        "    P = self.head\n",
        "    cont = 0\n",
        "    while (P != None):\n",
        "      if (cont == pos):\n",
        "        return P.getData()\n",
        "\n",
        "      cont = cont + 1\n",
        "      P = P.getNext()\n",
        "\n",
        "    return None\n",
        "\n",
        "  def remove(self,item):\n",
        "    current = self.head\n",
        "    previous = None\n",
        "    found = False\n",
        "    while current != None:\n",
        "      if current.getData() == item:\n",
        "        found = True\n",
        "        break\n",
        "      else:\n",
        "        previous = current\n",
        "        current = current.getNext()\n",
        "\n",
        "    if (found == True):\n",
        "      if previous == None:\n",
        "        self.head = current.getNext()\n",
        "      else:\n",
        "        previous.setNext(current.getNext())\n",
        "        current.setNext(None) #cortamos la referenci al sgte. objeto\n",
        "        del current #eliminar el nodo aislado\n",
        "\n",
        "  def insert(self,item, nuevo):\n",
        "    current = self.head\n",
        "    previous = None\n",
        "    found = False\n",
        "    temp = Nodo(nuevo)\n",
        "    while current != None:\n",
        "      if current.getData() == item:\n",
        "        found = True\n",
        "        break\n",
        "      else:\n",
        "        previous = current\n",
        "        current = current.getNext()\n",
        "\n",
        "    if (found == True):\n",
        "      if previous == None:\n",
        "        temp.next = self.head\n",
        "        self.head = temp\n",
        "      else:\n",
        "        temp.setNext(previous.getNext())\n",
        "        previous.setNext(temp)\n"
      ],
      "execution_count": null,
      "outputs": []
    },
    {
      "cell_type": "code",
      "metadata": {
        "id": "10-NmBNpmkkq"
      },
      "source": [
        "mylist = List()\n",
        "mylist.add(31)\n",
        "mylist.add(77)\n",
        "mylist.add(17)\n",
        "mylist.add(93)\n",
        "mylist.add(26)\n",
        "mylist.add(54)\n",
        "\n",
        "#mylist.mostrarLista()\n",
        "#mylist.mostrarIndex(17)"
      ],
      "execution_count": null,
      "outputs": []
    },
    {
      "cell_type": "code",
      "metadata": {
        "id": "e72TCs7zHhyX",
        "colab": {
          "base_uri": "https://localhost:8080/"
        },
        "outputId": "50e31a69-91dd-44e9-f9f9-a3fc3e5142e7"
      },
      "source": [
        "print(mylist.head.data)\n",
        "print(mylist.head.next.data)\n",
        "print(mylist.head.next.next.data)\n",
        "mylist.showValues()"
      ],
      "execution_count": null,
      "outputs": [
        {
          "output_type": "stream",
          "text": [
            "54\n",
            "26\n",
            "93\n",
            "54 , 26 , 93 , 17 , 77 , 31 , "
          ],
          "name": "stdout"
        }
      ]
    },
    {
      "cell_type": "code",
      "metadata": {
        "id": "s7qoyo8FJzP1",
        "colab": {
          "base_uri": "https://localhost:8080/"
        },
        "outputId": "b49cb2de-b975-44d1-f5c7-0055315db098"
      },
      "source": [
        "mylist.search(117)"
      ],
      "execution_count": null,
      "outputs": [
        {
          "output_type": "execute_result",
          "data": {
            "text/plain": [
              "False"
            ]
          },
          "metadata": {
            "tags": []
          },
          "execution_count": 14
        }
      ]
    },
    {
      "cell_type": "code",
      "metadata": {
        "id": "IPp_QAtYRCTE",
        "colab": {
          "base_uri": "https://localhost:8080/"
        },
        "outputId": "9d392e63-914a-4812-ce2f-7232bbef7fbf"
      },
      "source": [
        "mylist.showValues()\n",
        "mylist.remove(54)\n",
        "print()\n",
        "mylist.showValues()"
      ],
      "execution_count": null,
      "outputs": [
        {
          "output_type": "stream",
          "text": [
            "54 , 26 , 93 , 17 , 77 , 31 , \n",
            "26 , 93 , 17 , 77 , 31 , "
          ],
          "name": "stdout"
        }
      ]
    },
    {
      "cell_type": "code",
      "metadata": {
        "id": "2EyoRCWKSsV_",
        "colab": {
          "base_uri": "https://localhost:8080/"
        },
        "outputId": "98fb21b9-6bdb-46e5-e158-141f0ae37160"
      },
      "source": [
        "mylist.showValues()\n",
        "mylist.insert(17, 19)\n",
        "print()\n",
        "mylist.showValues()"
      ],
      "execution_count": null,
      "outputs": [
        {
          "output_type": "stream",
          "text": [
            "26 , 93 , 17 , 77 , 31 , \n",
            "26 , 93 , 19 , 17 , 77 , 31 , "
          ],
          "name": "stdout"
        }
      ]
    },
    {
      "cell_type": "code",
      "metadata": {
        "id": "-NUK80iPPcJN",
        "colab": {
          "base_uri": "https://localhost:8080/"
        },
        "outputId": "8ce44dad-c282-4fde-ef41-c24c985a8e88"
      },
      "source": [
        "type(mylist.retornar(13))"
      ],
      "execution_count": null,
      "outputs": [
        {
          "output_type": "execute_result",
          "data": {
            "text/plain": [
              "NoneType"
            ]
          },
          "metadata": {
            "tags": []
          },
          "execution_count": 17
        }
      ]
    },
    {
      "cell_type": "code",
      "metadata": {
        "id": "GWRIRPXpFUak",
        "colab": {
          "base_uri": "https://localhost:8080/"
        },
        "outputId": "98e69d02-0189-4f29-ef51-1a1c635d3984"
      },
      "source": [
        "print(mylist.head.getData())"
      ],
      "execution_count": null,
      "outputs": [
        {
          "output_type": "stream",
          "text": [
            "26\n"
          ],
          "name": "stdout"
        }
      ]
    },
    {
      "cell_type": "markdown",
      "metadata": {
        "id": "n4i9xI_dCjTm"
      },
      "source": [
        "# Arboles binarios"
      ]
    },
    {
      "cell_type": "code",
      "metadata": {
        "id": "4pQooScfClR7"
      },
      "source": [
        "class Node:\n",
        "  def __init__(self, data):\n",
        "    self.left = None\n",
        "    self.right = None\n",
        "    self.data = data\n",
        "\n",
        "  def PrintTree(self):\n",
        "    if self.left:\n",
        "        self.left.PrintTree()\n",
        "    if self.right:\n",
        "       self.right.PrintTree()\n",
        "    print(self.data)\n",
        "\n",
        "  def insert(self, data):\n",
        "    if self.data:\n",
        "      if data < self.data:\n",
        "        if self.left is None:\n",
        "          self.left = Node(data)\n",
        "        else:\n",
        "          self.left.insert(data)\n",
        "      elif data > self.data:\n",
        "        if self.right is None:\n",
        "          self.right = Node(data)\n",
        "        else:\n",
        "          self.right.insert(data)\n",
        "    else:\n",
        "      self.data = data\n"
      ],
      "execution_count": null,
      "outputs": []
    },
    {
      "cell_type": "code",
      "metadata": {
        "id": "Naqwk_FMHtBP"
      },
      "source": [
        "def suma(self):\n",
        "  if self.data is None:\n",
        "    return False\n",
        "  else:\n",
        "    return (self.data + suma(self.left) + suma(self.right))"
      ],
      "execution_count": null,
      "outputs": []
    },
    {
      "cell_type": "code",
      "metadata": {
        "id": "xDNzUE8nJHiO"
      },
      "source": [
        "class Node:\n",
        "    def __init__(self, data):\n",
        "        self.data = data\n",
        "        self.left = None\n",
        "        self.right = None\n",
        "\n",
        "\n",
        "    def insert(self, data):\n",
        "      if self.data:\n",
        "        if data < self.data:\n",
        "          if self.left is None:\n",
        "            self.left = Node(data)\n",
        "          else:\n",
        "            self.left.insert(data)\n",
        "        elif data > self.data:\n",
        "          if self.right is None:\n",
        "            self.right = Node(data)\n",
        "          else:\n",
        "            self.right.insert(data)\n",
        "      else:\n",
        "        self.data = data\n",
        "\n",
        "    def suma(self):\n",
        "      if self is None:\n",
        "          return False\n",
        "      return (self.data + suma(self.left) +\n",
        "                        suma(self.right))\n",
        "\n",
        "def suma1(root):\n",
        "    if (root == None):\n",
        "        return 0\n",
        "    return (root.data + suma(root.left) +\n",
        "                       suma(root.right))\n",
        "\n"
      ],
      "execution_count": null,
      "outputs": []
    },
    {
      "cell_type": "code",
      "metadata": {
        "id": "eWB1ER94Cs1_",
        "colab": {
          "base_uri": "https://localhost:8080/"
        },
        "outputId": "7f377b90-e1b3-42ab-9fbe-9c4a823844d7"
      },
      "source": [
        "root = Node(12)\n",
        "root.insert(18)\n",
        "root.insert(11)\n",
        "root.insert(5)\n",
        "root.insert(8)\n",
        "root.insert(9)\n",
        "\n",
        "root.PrintTree()"
      ],
      "execution_count": null,
      "outputs": [
        {
          "output_type": "stream",
          "text": [
            "9\n",
            "8\n",
            "5\n",
            "11\n",
            "18\n",
            "12\n"
          ],
          "name": "stdout"
        }
      ]
    }
  ]
}